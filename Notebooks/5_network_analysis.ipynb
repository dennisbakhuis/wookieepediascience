{
 "cells": [
  {
   "cell_type": "markdown",
   "id": "3ac7a3f3-1081-441c-ac3d-a89f7cccaff6",
   "metadata": {},
   "source": [
    "# Star Wars Data Science\n",
    "## Network Analysis, Topic Modeling, and a Wordcloud!\n",
    "https://linkedin.com/in/dennisbakhuis"
   ]
  },
  {
   "cell_type": "markdown",
   "id": "23743290-0564-4b27-b1f9-65ebbe1f1c9c",
   "metadata": {},
   "source": [
    "## 5. Star Wars Network analysis"
   ]
  },
  {
   "cell_type": "markdown",
   "id": "8fbea0ae-6394-4685-805b-b4d6e13ab443",
   "metadata": {},
   "source": [
    "We collected a total of 5334 characters and wouldn't it be great to analyze the relations between each character. As a first attempt to work with graph networks, I want to visualize the network around characters. For this we need to have nodes, which are the characters, and their relations, which are called edges in a graph. For example, Anakin Skywalker would have a relation called 'father of' to Luke Skywalker. To extract the various relations would mean extensive natural language processing to reduce the corpus to forms of node-edge-node, which is far from trivial.\n",
    "\n",
    "To make it a bit easier, we will sum all relations to a single kind of relation which we call 'connected to'. To find out if a character is connected to another, we will look if there is a link on the page. We expect that on the page of Anakin Skywalker there will be a link to the page of Luke Skywalker. All these links are collected during the scraping process as a list which we call crosslinks."
   ]
  },
  {
   "cell_type": "code",
   "execution_count": null,
   "id": "4e07031d-bee6-4a63-b53d-cdda22214c17",
   "metadata": {},
   "outputs": [],
   "source": [
    "import pickle\n",
    "from pathlib import Path\n",
    "import urllib\n",
    "import collections\n",
    "\n",
    "\n",
    "import pandas as pd\n",
    "from tqdm import tqdm\n",
    "from networkx import nx\n",
    "\n",
    "\n",
    "import matplotlib.pyplot as plt\n",
    "import seaborn as sns\n",
    "from pyvis.network import Network\n",
    "sns.set_context('notebook', font_scale=1.5, rc={'line.linewidth': 2.5})"
   ]
  },
  {
   "cell_type": "markdown",
   "id": "05deb3a7-e24b-48d6-bd26-3830e5bc97aa",
   "metadata": {},
   "source": [
    "Lets start with preparing the raw data:"
   ]
  },
  {
   "cell_type": "code",
   "execution_count": null,
   "id": "0284fe38-8f35-4794-a8be-3f8d73af5dc8",
   "metadata": {},
   "outputs": [],
   "source": [
    "files = sorted(Path('../Dataset').glob('*.pickle'))\n",
    "data = {}\n",
    "for fn in files:\n",
    "    with open(fn, 'rb') as f:\n",
    "        part = pickle.load(f)\n",
    "    data.update(part)\n",
    "\n",
    "def remove_url_shizzle(text):\n",
    "    return urllib.parse.unquote(text).replace('\"', '').replace(\"'\", '')\n",
    "\n",
    "cleaned = {}\n",
    "for key, value in tqdm(data.items()):\n",
    "    new_key = remove_url_shizzle(key)\n",
    "    cleaned[new_key] = value\n",
    "    cleaned[new_key]['crosslinks'] = [remove_url_shizzle(crosslink) for crosslink in value['crosslinks']]\n",
    "data = cleaned\n",
    "\n",
    "characters = pd.read_parquet('../Dataset/StarWars_Characters.parquet')['key'].tolist()\n"
   ]
  },
  {
   "cell_type": "markdown",
   "id": "97361634-a2c6-4458-8250-db486cdc4456",
   "metadata": {},
   "source": [
    "Now we can build a Graph network and we will be using the excellent networkx package. Networks are geometrical structures to organize data into nodes and edges. In our case, nodes are the characters and the relations between the nodes are edges. Normally you also provide a weight to an edge. This can be seen as how strong a bond is, but also as a distance. These weights enable many methods for analysis such as the shortest path. As we cannot add a measure to our relation (at least not that I know of from this data), all the weights will be set to unity.\n",
    "\n",
    "When building the network, we will scan the crosslinks of each character. These can point to other characters, but also to any other page. Therefore, we need to check if the crosslink is a character and ignore non-characters:"
   ]
  },
  {
   "cell_type": "code",
   "execution_count": null,
   "id": "cf7c0a6b-b8b8-4066-8635-aa10aee05fa0",
   "metadata": {},
   "outputs": [],
   "source": [
    "graph = nx.Graph()\n",
    "for key in tqdm(characters):\n",
    "    crosslinks = data[key]['crosslinks']\n",
    "    for crosslink in crosslinks:\n",
    "        if crosslink in characters:\n",
    "            graph.add_edge(key, crosslink)\n",
    "\n",
    "print(f'Nodes: {graph.number_of_nodes()}, Links: {graph.number_of_edges()}')"
   ]
  },
  {
   "cell_type": "markdown",
   "id": "d33f9135-37e2-4aac-9ded-67607b90424b",
   "metadata": {},
   "source": [
    "After the creation we end up with 4794 nodes. Apparently, about 500 characters do not have a single relation to another character. From the characters that do have relations (edges), this is a total of almost 20k or 4 relations on average."
   ]
  },
  {
   "cell_type": "markdown",
   "id": "63578ace-62ab-454b-9293-b2a67ffad438",
   "metadata": {},
   "source": [
    "Lets first have a look at the degree distribution, which show the amount of connections to other nodes. A node of degree 1 has only one connection, while a node with degree 10 has 10 connections to other nodes. The code is available in the notebook."
   ]
  },
  {
   "cell_type": "code",
   "execution_count": null,
   "id": "bad2e693-978f-4154-ad11-09fc8a47c66c",
   "metadata": {},
   "outputs": [],
   "source": [
    "degree_sequence = sorted([d for n, d in graph.degree()]) \n",
    "degreeCount = collections.Counter(degree_sequence)\n",
    "deg, cnt = zip(*degreeCount.items())\n",
    "degree_df = pd.DataFrame({'degree': deg, 'count':cnt})\n",
    "\n",
    "fig, ax = plt.subplots(1, 1, figsize=(12, 8))\n",
    "ax.set_facecolor(\"white\")\n",
    "sns.barplot( x='degree', y='count', data=degree_df.loc[degree_df.degree<32])\n",
    "_, _ = ax.set_ylabel(\"Count\"), ax.set_xlabel(\"Degree\")\n",
    "sns.despine()\n",
    "ax.grid(False)\n",
    "\n",
    "fig.savefig('../Assets/sw_network1.png', bbox_inches='tight')"
   ]
  },
  {
   "cell_type": "markdown",
   "id": "6bea08a5-afdc-49ef-b552-97bd646ac99d",
   "metadata": {},
   "source": [
    "Most of the nodes only have a few connections and with a dataset that consists of more 5334 characters it is also no surprise. Many characters only have a single appearance. Characters like Anakin Skywalker have connections to more than 100 other characters and this is probably also the case of other stars from Star Wars."
   ]
  },
  {
   "cell_type": "code",
   "execution_count": null,
   "id": "b078493e-8a90-471d-88dc-3da00c3daa3f",
   "metadata": {},
   "outputs": [],
   "source": [
    "cut_off = 2\n",
    "\n",
    "while True: \n",
    "    nodes_to_remove = [\n",
    "        node for node, degree in graph.degree(graph.nodes) \n",
    "        if degree <= cut_off\n",
    "    ]\n",
    "    if len(nodes_to_remove)==0:\n",
    "        break\n",
    "    else:\n",
    "        print(f'Removing {len(nodes_to_remove)} nodes')\n",
    "        graph.remove_nodes_from(nodes_to_remove)\n",
    "        print(f'Remaining Nodes: {graph.number_of_nodes()} Links: {graph.number_of_edges()}')"
   ]
  },
  {
   "cell_type": "markdown",
   "id": "8d372f03-8220-4807-afec-d049195b47fd",
   "metadata": {},
   "source": [
    "This brings the characters down to just below 3000. The amount of edges almost did not reduce and we still have 17k of those. This makes of course sense as we only removed low degree nodes. \n",
    "\n",
    "The power of graphs is that you can use a bag of tools to investigate a nodes importance. One of these tools is called Betweenness centrality. It is a method to find nodes that serve as a bridge between other nodes, i.e. as a sort of relay station for information. In our example, we use the Betweenness centrality to find which nodes are the link to various other persons and hopefully find some key characters."
   ]
  },
  {
   "cell_type": "code",
   "execution_count": null,
   "id": "43092ae3-0a6b-45e9-9ce6-1eff9c1d3111",
   "metadata": {},
   "outputs": [],
   "source": [
    "bc = nx.algorithms.betweenness_centrality(graph)\n",
    "count_bc = collections.Counter(bc)\n",
    "\n",
    "bc_df = pd.DataFrame({\n",
    "    'name': count_bc.keys(),\n",
    "    'degree': count_bc.values(),\n",
    "}).sort_values('degree', ascending=False)\n",
    "bc_df.head(10)"
   ]
  },
  {
   "cell_type": "code",
   "execution_count": null,
   "id": "b6826e8f-ef05-4219-b3bd-c497f779cba9",
   "metadata": {},
   "outputs": [],
   "source": [
    "fig, ax = plt.subplots(figsize=(12, 6))\n",
    "\n",
    "ax.set_facecolor(\"white\")\n",
    "sns.barplot( x='name', y='degree', data=bc_df.iloc[:10])\n",
    "\n",
    "_, _ = ax.set_ylabel(\"Degree\"), ax.set_xlabel(None)\n",
    "plt.xticks(rotation=60, ha='right')\n",
    "sns.despine()\n",
    "ax.grid(False)\n",
    "\n",
    "fig.savefig('../Assets/sw_network2.png', bbox_inches='tight')"
   ]
  },
  {
   "cell_type": "markdown",
   "id": "4e6c58d4-f359-4678-b804-ddf658639c13",
   "metadata": {},
   "source": [
    "No surprises here. I had to look up Ezra Bridger but he was very prominent in the Clone War series. There are many other algorithms such as closeness centrality or page rank but these resulted in similar results."
   ]
  },
  {
   "cell_type": "markdown",
   "id": "2f2e682e-7654-4007-9db0-3297f1b16578",
   "metadata": {},
   "source": [
    "To have a bit of more play play with the graph network, we will visualize it using PyVis. PyVis is build around VisJS and makes it extremely easy to plot these graphs and play around with the result. There is however one thing we need to take care off: we have much to much nodes and edges. While it seems that PyVis has no problem with large amounts, due to overlap of all the edges, it does not so interesting. Therefore, we need to make an algorithm that selects a subgroup from our network.\n",
    "\n",
    "The next piece of code needs three parameters: a starting node, a maximum level penetration, and maximum crosslinks. The algorithm will, as the name suggest, start from the starting node and selects the maximum amount of neighboring nodes. If there are more nodes available than the maximum set crosslinks, it will select the nodes with the larges degree. Next, the algorithm will jump to the selected nodes (this is a level increase) and repeat the process until the maximum penetration is achieved. The amount of nodes selected will increase exponentially with maximum level penetration so be careful with that parameter."
   ]
  },
  {
   "cell_type": "markdown",
   "id": "37709bfd-ff3f-4a15-831e-087dd7b20b0f",
   "metadata": {},
   "source": [
    "The result is an interactive website that is shown directly in the Jupyter notebook or any other web browser.\n",
    "\n",
    "👉 [Interactive network graph of Anakin Skywalker!](https://dennisbakhuis.github.io/wookieepediascience/)"
   ]
  },
  {
   "cell_type": "markdown",
   "id": "2d73fe1f-f5b7-4ed5-8dd5-c154f790108c",
   "metadata": {},
   "source": [
    "### Interactive Network plot using PyVis"
   ]
  },
  {
   "cell_type": "code",
   "execution_count": null,
   "id": "89db6852-2e66-4b62-856a-39e265768040",
   "metadata": {},
   "outputs": [],
   "source": [
    "def get_crosslink_table(key, n = 30, ignore_keys=[]):\n",
    "    cl = data[key]['crosslinks']\n",
    "    result = []\n",
    "    for link in cl:\n",
    "        if link in characters:\n",
    "            n_cl = len(data[link]['crosslinks'])\n",
    "            result.append({'key': link, 'n_links': n_cl})\n",
    "    result = pd.DataFrame(result)\n",
    "    return result.loc[~result.key.isin(ignore_keys)].sort_values('n_links', ascending=False)['key'].head(n).tolist()"
   ]
  },
  {
   "cell_type": "code",
   "execution_count": null,
   "id": "ab022076-13ec-4724-a0e5-5afb6b1a2fbf",
   "metadata": {},
   "outputs": [],
   "source": [
    "level_colors =  {\n",
    "    0:'#7A84DD',\n",
    "    1:\"#B15B60\", \n",
    "    2:'#8ACAE5', \n",
    "    3:'#BD9267', \n",
    "    4:'#F1A54D', \n",
    "    5:'#020104',\n",
    "}\n",
    "\n",
    "def add_node(graph, key, level, max_level=2, n_crosslinks=10, ignore_keys=[]):\n",
    "    label = key.replace('_', ' ')\n",
    "    char = [{'name': label, 'description': data[key]['paragraph'].strip()}]\n",
    "    textblock = pd.DataFrame(char).to_html(header=False, index=False, columns=['description'])\n",
    "    G.add_node(\n",
    "        label,\n",
    "        title=textblock,\n",
    "        size=10,\n",
    "        color=level_colors[level],\n",
    "        label=label,\n",
    "    )\n",
    "    if level < max_level:\n",
    "        next_nodes = get_crosslink_table(key, n=n_crosslinks, ignore_keys=ignore_keys)\n",
    "        for next_key in next_nodes:\n",
    "            add_node(G, next_key, level + 1, max_level=max_level, n_crosslinks=n_crosslinks, ignore_keys=next_nodes + [key] + ignore_keys)\n",
    "            next_label = next_key.replace('_', ' ')\n",
    "            G.add_edge(\n",
    "                label,\n",
    "                next_label,\n",
    "                weight=max_level / (1 + level),\n",
    "                title=label+' -> '+next_label,\n",
    "                width=1.5,\n",
    "            )\n",
    "\n",
    "max_level = 2\n",
    "n_crosslinks = 15\n",
    "start_key = 'Anakin_Skywalker'\n",
    "\n",
    "# G = Network(height=\"1000px\", width=\"100%\", bgcolor=\"#222222\", font_color=\"white\",notebook=True)\n",
    "G = Network(height=\"1000px\", width=\"100%\", bgcolor=\"#000000\", font_color=\"white\",notebook=True)\n",
    "add_node(G, start_key, 0, max_level=max_level, n_crosslinks=n_crosslinks)"
   ]
  },
  {
   "cell_type": "code",
   "execution_count": null,
   "id": "d3e6968f-2be6-492a-aa5a-429f1c56397b",
   "metadata": {
    "tags": []
   },
   "outputs": [],
   "source": [
    "G.barnes_hut(gravity=-5000, central_gravity=0, spring_length=200, spring_strength=0.009, damping=0.025, overlap=0)\n",
    "G.show('../Docs/index.html')"
   ]
  },
  {
   "cell_type": "markdown",
   "id": "d4ac20f5-df08-4844-9e84-a2c75e6eebe2",
   "metadata": {},
   "source": [
    "Each node can be dragged with the mouse  and will pull its connections along with it. When hovering over a node, the first paragraph of the Wookieepedia page is shown and makes it easy to read who that character is. The color of the node indicate the level. The color of the edge is the color from its source. Feel free to investigate other characters as well!"
   ]
  },
  {
   "cell_type": "markdown",
   "id": "5b068fea-7591-4175-b193-47c057296a08",
   "metadata": {},
   "source": [
    "## Round up\n",
    "I had a lot of fun playing around with this dataset. There is still a lot possible as I barely touched the surface. But even with some straight forward methods we found quite some cool things. \n",
    "\n",
    "'this is the way' - Din Djarin\n",
    "\n",
    "Please let me know if you have any comments! [Feel free to connect on LinkedIn](https://linkedin.com/in/dennisbakhuis)."
   ]
  },
  {
   "cell_type": "code",
   "execution_count": null,
   "id": "fbb2645e-587f-4567-a7df-4acabc4dd47e",
   "metadata": {},
   "outputs": [],
   "source": []
  },
  {
   "cell_type": "code",
   "execution_count": null,
   "id": "a1c8b1dd-7fdb-414b-a94c-9b426725efc1",
   "metadata": {},
   "outputs": [],
   "source": []
  }
 ],
 "metadata": {
  "kernelspec": {
   "display_name": "Python 3",
   "language": "python",
   "name": "python3"
  },
  "language_info": {
   "codemirror_mode": {
    "name": "ipython",
    "version": 3
   },
   "file_extension": ".py",
   "mimetype": "text/x-python",
   "name": "python",
   "nbconvert_exporter": "python",
   "pygments_lexer": "ipython3",
   "version": "3.8.8"
  }
 },
 "nbformat": 4,
 "nbformat_minor": 5
}
