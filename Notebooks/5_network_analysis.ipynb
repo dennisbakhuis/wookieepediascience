{
 "cells": [
  {
   "cell_type": "markdown",
   "id": "3ac7a3f3-1081-441c-ac3d-a89f7cccaff6",
   "metadata": {},
   "source": [
    "## Star Wars \n",
    "https://linkedin.com/in/dennisbakhuis"
   ]
  },
  {
   "cell_type": "markdown",
   "id": "23743290-0564-4b27-b1f9-65ebbe1f1c9c",
   "metadata": {},
   "source": [
    "## 5. Star Wars Network analysis"
   ]
  },
  {
   "cell_type": "markdown",
   "id": "8fbea0ae-6394-4685-805b-b4d6e13ab443",
   "metadata": {},
   "source": [
    "We collected a total of 5334 characters and wouldn't it be great to analyze the relations between each character. As a first attempt to work with graph networks, I want to visualize the network around characters. For this we need to have nodes, which are the characters, and their relations, which are called edges in a graph. For example, Anakin Skywalker would have a relation called 'father of' to Luke Skywalker. To extract the various relations would mean extensive natural language processing to reduce the corpus to forms of node-edge-node, which is far from trivial.\n",
    "\n",
    "To make it a bit easier, we will sum all relations to a single kind of relation which we call 'connected to'. To find out if a character is connected to another, we will look if there is a link on the page. We expect that on the page of Anakin Skywalker there will be a link to the page of Luke Skywalker. All these links are collected during the scraping process as a list which we call crosslinks."
   ]
  },
  {
   "cell_type": "code",
   "execution_count": null,
   "id": "4e07031d-bee6-4a63-b53d-cdda22214c17",
   "metadata": {},
   "outputs": [],
   "source": [
    "import pickle\n",
    "from pathlib import Path\n",
    "import urllib\n",
    "import collections\n",
    "\n",
    "\n",
    "import pandas as pd\n",
    "from tqdm import tqdm\n",
    "from networkx import nx\n",
    "\n",
    "\n",
    "import matplotlib.pyplot as plt\n",
    "import seaborn as sns\n",
    "from pyvis.network import Network\n",
    "sns.set_context('notebook', font_scale=1.5, rc={'line.linewidth': 2.5})"
   ]
  },
  {
   "cell_type": "markdown",
   "id": "05deb3a7-e24b-48d6-bd26-3830e5bc97aa",
   "metadata": {},
   "source": [
    "Import the raw data"
   ]
  },
  {
   "cell_type": "code",
   "execution_count": null,
   "id": "0284fe38-8f35-4794-a8be-3f8d73af5dc8",
   "metadata": {},
   "outputs": [],
   "source": [
    "files = sorted(Path('../Dataset').glob('*.pickle'))\n",
    "data = {}\n",
    "for fn in files:\n",
    "    with open(fn, 'rb') as f:\n",
    "        part = pickle.load(f)\n",
    "    data.update(part)\n",
    "\n",
    "def remove_url_shizzle(text):\n",
    "    return urllib.parse.unquote(text).replace('\"', '').replace(\"'\", '')\n",
    "\n",
    "cleaned = {}\n",
    "for key, value in tqdm(data.items()):\n",
    "    new_key = remove_url_shizzle(key)\n",
    "    cleaned[new_key] = value\n",
    "    cleaned[new_key]['crosslinks'] = [remove_url_shizzle(crosslink) for crosslink in value['crosslinks']]\n",
    "data = cleaned\n",
    "\n",
    "characters = pd.read_parquet('../Dataset/StarWars_Characters.parquet')['key'].tolist()\n"
   ]
  },
  {
   "cell_type": "markdown",
   "id": "97361634-a2c6-4458-8250-db486cdc4456",
   "metadata": {},
   "source": [
    "Create a network that connects all characters using their crosslinks."
   ]
  },
  {
   "cell_type": "code",
   "execution_count": null,
   "id": "cf7c0a6b-b8b8-4066-8635-aa10aee05fa0",
   "metadata": {},
   "outputs": [],
   "source": [
    "graph = nx.Graph()\n",
    "for key in tqdm(characters):\n",
    "    crosslinks = data[key]['crosslinks']\n",
    "    for crosslink in crosslinks:\n",
    "        if crosslink in characters:\n",
    "            graph.add_edge(key, crosslink)\n",
    "print('Nodes: {0:d}, Links: {1:d}'.format(graph.number_of_nodes(),graph.number_of_edges()))"
   ]
  },
  {
   "cell_type": "markdown",
   "id": "63578ace-62ab-454b-9293-b2a67ffad438",
   "metadata": {},
   "source": [
    "Degree distribution analysis"
   ]
  },
  {
   "cell_type": "code",
   "execution_count": null,
   "id": "bad2e693-978f-4154-ad11-09fc8a47c66c",
   "metadata": {},
   "outputs": [],
   "source": [
    "degree_sequence = sorted([d for n, d in graph.degree()]) \n",
    "degreeCount = collections.Counter(degree_sequence)\n",
    "deg, cnt = zip(*degreeCount.items())\n",
    "degree_df = pd.DataFrame({'degree': deg, 'count':cnt})\n",
    "\n",
    "fig, ax = plt.subplots(1, 1, figsize=(12, 8))\n",
    "ax.set_facecolor(\"white\")\n",
    "sns.barplot( x='degree', y='count', data=degree_df.loc[degree_df.degree<32])\n",
    "_, _ = ax.set_ylabel(\"Count\"), ax.set_xlabel(\"Degree\")\n",
    "sns.despine()"
   ]
  },
  {
   "cell_type": "code",
   "execution_count": null,
   "id": "85a9816b-15c2-4723-8362-e9ae375b0aae",
   "metadata": {},
   "outputs": [],
   "source": []
  },
  {
   "cell_type": "code",
   "execution_count": null,
   "id": "b078493e-8a90-471d-88dc-3da00c3daa3f",
   "metadata": {},
   "outputs": [],
   "source": [
    "#Erase nodes with degree lower than 2, for a clearer network \n",
    "proceed = True\n",
    "while proceed: \n",
    "    nodes_to_remove =[node for node, degree in graph.degree(graph.nodes) if degree < 2]\n",
    "    if len(nodes_to_remove)==0:\n",
    "        proceed = False\n",
    "    else:\n",
    "        print('Removing {0:d} nodes'.format(len(nodes_to_remove)))\n",
    "        graph.remove_nodes_from(nodes_to_remove)\n",
    "        print('Remaining Nodes: {0:d}, Links: {1:d}'.format(graph.number_of_nodes(),graph.number_of_edges()))"
   ]
  },
  {
   "cell_type": "code",
   "execution_count": null,
   "id": "6db6e474-e8a5-4e50-b9da-f2c00d10726c",
   "metadata": {},
   "outputs": [],
   "source": [
    "undirected_graph = graph.to_undirected()\n",
    "print('Nodes: {0:d}, Links: {1:d}'.format(graph.number_of_nodes(),graph.number_of_edges()))"
   ]
  },
  {
   "cell_type": "code",
   "execution_count": null,
   "id": "e5146e5d-0ad7-4f6f-9103-2d679f03c75f",
   "metadata": {},
   "outputs": [],
   "source": [
    "#Degree centrality\n",
    "node_degree_centrality = nx.degree_centrality(graph)\n",
    "counter_centrality = collections.Counter(node_degree_centrality)\n",
    "print (counter_centrality.most_common(10))"
   ]
  },
  {
   "cell_type": "code",
   "execution_count": null,
   "id": "1031308b-48d9-4c4d-a8cb-f053a38e1b55",
   "metadata": {},
   "outputs": [],
   "source": [
    "network_df = pd.DataFrame(columns=['character','centrality_degree'])\n",
    "network_df['character'] = counter_centrality.keys()\n",
    "network_df['centrality_degree'] = counter_centrality.values()\n",
    "network_df = network_df.sort_values(\"centrality_degree\",ascending=False)\n",
    "network_df.head()"
   ]
  },
  {
   "cell_type": "code",
   "execution_count": null,
   "id": "219400e5-e805-49a0-84b6-53ba3ec098ae",
   "metadata": {},
   "outputs": [],
   "source": [
    "plt.figure(figsize=(20,7))\n",
    "sns.set(style=\"whitegrid\")\n",
    "tips = sns.load_dataset(\"tips\")\n",
    "ax = sns.barplot(x=\"character\", y=\"centrality_degree\", data=network_df.head(10))\n",
    "plt.title('Centrality Degree',fontsize=20)\n",
    "plt.xlabel('Character',fontsize=15)\n",
    "plt.ylabel('Centrality Degree',fontsize=15)\n",
    "plt.xticks(rotation=60)\n",
    "\n",
    "plt.show()"
   ]
  },
  {
   "cell_type": "code",
   "execution_count": null,
   "id": "43092ae3-0a6b-45e9-9ce6-1eff9c1d3111",
   "metadata": {},
   "outputs": [],
   "source": [
    "#betweeness centrality\n",
    "node_betweeness_centrality = nx.algorithms.betweenness_centrality(graph)\n",
    "counter_betweeness = collections.Counter(node_betweeness_centrality)\n",
    "print (counter_betweeness.most_common(10))"
   ]
  },
  {
   "cell_type": "code",
   "execution_count": null,
   "id": "66ff78e7-4929-477b-a0b0-9832efb3d5da",
   "metadata": {},
   "outputs": [],
   "source": [
    "network_df_betweeness = pd.DataFrame(columns=['character','betweeness_degree'])\n",
    "network_df_betweeness['character'] = counter_betweeness.keys()\n",
    "network_df_betweeness['betweeness_degree'] = counter_betweeness.values()\n",
    "network_df_betweeness = network_df_betweeness.sort_values(\"betweeness_degree\",ascending=False)\n",
    "network_df_betweeness.head()"
   ]
  },
  {
   "cell_type": "code",
   "execution_count": null,
   "id": "28d58cf4-6b54-4cf8-b273-8d0a0e9bcc08",
   "metadata": {},
   "outputs": [],
   "source": [
    "plt.figure(figsize=(20,7))\n",
    "sns.set(style=\"whitegrid\")\n",
    "tips = sns.load_dataset(\"tips\")\n",
    "ax = sns.barplot(x=\"character\", y=\"betweeness_degree\", data=network_df_betweeness.head(10))\n",
    "plt.title('Betweeness Centrality Degree',fontsize=20)\n",
    "\n",
    "plt.xlabel('Character',fontsize=15)\n",
    "plt.ylabel('Betweeness Centrality Degree',fontsize=15)\n",
    "plt.xticks(rotation=60)\n",
    "\n",
    "plt.show()"
   ]
  },
  {
   "cell_type": "code",
   "execution_count": null,
   "id": "1184af32-aa10-42fc-9390-f4064287b3ce",
   "metadata": {},
   "outputs": [],
   "source": [
    "#Closeness centrality\n",
    "node_closeness_centrality = nx.closeness_centrality(graph)\n",
    "counter_closeness_centrality = collections.Counter(node_closeness_centrality)\n",
    "print (counter_closeness_centrality.most_common(10))"
   ]
  },
  {
   "cell_type": "code",
   "execution_count": null,
   "id": "9490e436-0503-497b-b210-06f629cc8ca7",
   "metadata": {},
   "outputs": [],
   "source": []
  },
  {
   "cell_type": "markdown",
   "id": "2d73fe1f-f5b7-4ed5-8dd5-c154f790108c",
   "metadata": {},
   "source": [
    "### Interactive Network plot using PyVis"
   ]
  },
  {
   "cell_type": "code",
   "execution_count": null,
   "id": "89db6852-2e66-4b62-856a-39e265768040",
   "metadata": {},
   "outputs": [],
   "source": [
    "def get_crosslink_table(key, n = 30, ignore_keys=[]):\n",
    "    cl = data[key]['crosslinks']\n",
    "    result = []\n",
    "    for link in cl:\n",
    "        if link in characters:\n",
    "            n_cl = len(data[link]['crosslinks'])\n",
    "            result.append({'key': link, 'n_links': n_cl})\n",
    "    result = pd.DataFrame(result)\n",
    "    return result.loc[~result.key.isin(ignore_keys)].sort_values('n_links', ascending=False)['key'].head(n).tolist()"
   ]
  },
  {
   "cell_type": "code",
   "execution_count": null,
   "id": "ab022076-13ec-4724-a0e5-5afb6b1a2fbf",
   "metadata": {},
   "outputs": [],
   "source": [
    "level_colors =  {\n",
    "    0:'#7A84DD',\n",
    "    1:\"#B15B60\", \n",
    "    2:'#8ACAE5', \n",
    "    3:'#BD9267', \n",
    "    4:'#F1A54D', \n",
    "    5:'#020104',\n",
    "}\n",
    "\n",
    "def add_node(graph, key, level, max_level=2, n_crosslinks=10, ignore_keys=[]):\n",
    "    label = key.replace('_', ' ')\n",
    "    char = [{'name': label, 'description': data[key]['paragraph'].strip()}]\n",
    "    textblock = pd.DataFrame(char).to_html(header=False, index=False, columns=['description'])\n",
    "    G.add_node(\n",
    "        label,\n",
    "        title=textblock,\n",
    "        size=10,\n",
    "        color=level_colors[level],\n",
    "        label=label,\n",
    "    )\n",
    "    if level < max_level:\n",
    "        next_nodes = get_crosslink_table(key, n=n_crosslinks, ignore_keys=ignore_keys)\n",
    "        for next_key in next_nodes:\n",
    "            add_node(G, next_key, level + 1, max_level=max_level, n_crosslinks=n_crosslinks, ignore_keys=next_nodes + [key] + ignore_keys)\n",
    "            next_label = next_key.replace('_', ' ')\n",
    "            G.add_edge(\n",
    "                label,\n",
    "                next_label,\n",
    "                weight=max_level / (1 + level),\n",
    "                title=label+' -> '+next_label,\n",
    "                width=1.5,\n",
    "            )\n",
    "\n",
    "max_level = 2\n",
    "n_crosslinks = 15\n",
    "start_key = 'Anakin_Skywalker'\n",
    "\n",
    "# G = Network(height=\"1000px\", width=\"100%\", bgcolor=\"#222222\", font_color=\"white\",notebook=True)\n",
    "G = Network(height=\"1000px\", width=\"100%\", bgcolor=\"#000000\", font_color=\"white\",notebook=True)\n",
    "add_node(G, start_key, 0, max_level=max_level, n_crosslinks=n_crosslinks)"
   ]
  },
  {
   "cell_type": "code",
   "execution_count": null,
   "id": "d3e6968f-2be6-492a-aa5a-429f1c56397b",
   "metadata": {
    "tags": []
   },
   "outputs": [],
   "source": [
    "G.barnes_hut(gravity=-5000, central_gravity=0, spring_length=200, spring_strength=0.009, damping=0.025, overlap=0)\n",
    "G.show('../Docs/index.html')"
   ]
  },
  {
   "cell_type": "code",
   "execution_count": null,
   "id": "ed221bb4-480a-4a61-82e9-90523fc193b5",
   "metadata": {},
   "outputs": [],
   "source": []
  },
  {
   "cell_type": "code",
   "execution_count": null,
   "id": "244ca215-bf5b-4463-bad2-0e5089d4f57b",
   "metadata": {},
   "outputs": [],
   "source": []
  },
  {
   "cell_type": "code",
   "execution_count": null,
   "id": "fbb2645e-587f-4567-a7df-4acabc4dd47e",
   "metadata": {},
   "outputs": [],
   "source": []
  },
  {
   "cell_type": "code",
   "execution_count": null,
   "id": "a1c8b1dd-7fdb-414b-a94c-9b426725efc1",
   "metadata": {},
   "outputs": [],
   "source": []
  }
 ],
 "metadata": {
  "kernelspec": {
   "display_name": "Python 3",
   "language": "python",
   "name": "python3"
  },
  "language_info": {
   "codemirror_mode": {
    "name": "ipython",
    "version": 3
   },
   "file_extension": ".py",
   "mimetype": "text/x-python",
   "name": "python",
   "nbconvert_exporter": "python",
   "pygments_lexer": "ipython3",
   "version": "3.8.8"
  }
 },
 "nbformat": 4,
 "nbformat_minor": 5
}
