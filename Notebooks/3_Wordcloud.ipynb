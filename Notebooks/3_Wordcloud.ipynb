{
 "cells": [
  {
   "cell_type": "markdown",
   "id": "22fa42b9-4de1-4656-98e9-0dbbe46b07fc",
   "metadata": {},
   "source": [
    "## Star Wars \n",
    "https://linkedin.com/in/dennisbakhuis"
   ]
  },
  {
   "cell_type": "markdown",
   "id": "e5de1b61-d2f6-4855-ac5f-1d93d3b1e834",
   "metadata": {},
   "source": [
    "## 3. We need a word cloud"
   ]
  },
  {
   "cell_type": "markdown",
   "id": "d97d440b-ce4e-47db-b14e-e8b04375623a",
   "metadata": {},
   "source": [
    "When doing data analysis on a fandom topic, we have to make a wordcloud. For this we are going to use the raw sentence dataset and the Wordcloud Python Package from Andreas Mueller. Even cooler, the documentation even has an example that uses a Stormtrooper!"
   ]
  },
  {
   "cell_type": "code",
   "execution_count": null,
   "id": "78ce4a25-2488-479e-9da5-dd519be9a1f8",
   "metadata": {},
   "outputs": [],
   "source": [
    "from PIL import Image\n",
    "import random\n",
    "from wordcloud import WordCloud, STOPWORDS\n",
    "import pandas as pd\n",
    "import numpy as np\n",
    "import matplotlib.pyplot as plt"
   ]
  },
  {
   "cell_type": "code",
   "execution_count": null,
   "id": "7318b5d4-6101-4514-9d48-d56341aa7b09",
   "metadata": {},
   "outputs": [],
   "source": [
    "fd = pd.read_parquet('../Dataset/StarWars_Descriptions.parquet')"
   ]
  },
  {
   "cell_type": "code",
   "execution_count": null,
   "id": "02a84a22-753e-4d1e-b10c-e9e649ecc19e",
   "metadata": {},
   "outputs": [],
   "source": [
    "def random_gray_color(\n",
    "    word,\n",
    "    font_size, \n",
    "    position, \n",
    "    orientation, \n",
    "    random_state=None,               \n",
    "    **kwargs,\n",
    "):\n",
    "    \"\"\"\n",
    "    Return random gray color\n",
    "    \"\"\"\n",
    "    return f\"hsl(0, 0%, {random.randint(60, 100)}%)\""
   ]
  },
  {
   "cell_type": "code",
   "execution_count": null,
   "id": "79a15958-8474-4311-9006-22579603dc36",
   "metadata": {},
   "outputs": [],
   "source": [
    "mask = 255 - np.array(Image.open('../Assets/stormtrooper.png'))"
   ]
  },
  {
   "cell_type": "code",
   "execution_count": null,
   "id": "877975f0-5705-428e-8859-320e9cc77a60",
   "metadata": {},
   "outputs": [],
   "source": [
    "wordcloud = WordCloud(\n",
    "    random_state=42,\n",
    "    collocations=False,\n",
    "    stopwords=STOPWORDS,\n",
    "    max_words=1000,\n",
    "    mask=mask,\n",
    ").generate('\\n'.join(fd.description.tolist()))"
   ]
  },
  {
   "cell_type": "markdown",
   "id": "b89a17d5-37ef-4b3d-9454-1a14e2e3bc4d",
   "metadata": {},
   "source": [
    "The Wordcloud package could not have made it easier. All frequency calculations are done under the hood and a beautiful image is generated:"
   ]
  },
  {
   "cell_type": "code",
   "execution_count": null,
   "id": "71426627-e6ae-49e1-8050-d9c89c060185",
   "metadata": {},
   "outputs": [],
   "source": [
    "fig, ax = plt.subplots(1,1, figsize=(16,16))\n",
    "_ = ax.imshow(\n",
    "    wordcloud.recolor(\n",
    "        color_func=random_gray_color,\n",
    "        random_state=3\n",
    "    ),\n",
    "    interpolation=\"bilinear\"\n",
    ")\n",
    "_ = plt.axis('off')"
   ]
  },
  {
   "cell_type": "code",
   "execution_count": null,
   "id": "692bb953-67eb-4a7c-b63c-5c1ef6823ea2",
   "metadata": {},
   "outputs": [],
   "source": [
    "fig.savefig('../Assets/sw_wordcloud1.png', bbox_inches=\"tight\")"
   ]
  },
  {
   "cell_type": "markdown",
   "id": "3e6417e8-5923-4a3e-a68e-0f717fa13091",
   "metadata": {},
   "source": [
    "The wordcloud is generated using the text of all canon articles, so not only the characters. As with all wordclouds, first all stopwords are removed and after a frequency analysis we see the most common words that definitely make sense in a Star Wars way."
   ]
  },
  {
   "cell_type": "code",
   "execution_count": null,
   "id": "7687705d-b109-4776-9a1d-c31977a744e2",
   "metadata": {},
   "outputs": [],
   "source": []
  },
  {
   "cell_type": "code",
   "execution_count": null,
   "id": "e27734d3-956d-4846-a39d-b491ea69b674",
   "metadata": {},
   "outputs": [],
   "source": []
  }
 ],
 "metadata": {
  "kernelspec": {
   "display_name": "Python 3",
   "language": "python",
   "name": "python3"
  },
  "language_info": {
   "codemirror_mode": {
    "name": "ipython",
    "version": 3
   },
   "file_extension": ".py",
   "mimetype": "text/x-python",
   "name": "python",
   "nbconvert_exporter": "python",
   "pygments_lexer": "ipython3",
   "version": "3.8.8"
  }
 },
 "nbformat": 4,
 "nbformat_minor": 5
}
