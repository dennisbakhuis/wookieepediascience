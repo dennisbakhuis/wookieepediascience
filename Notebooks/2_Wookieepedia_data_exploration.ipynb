{
 "cells": [
  {
   "cell_type": "markdown",
   "id": "0e8f21c2-6319-49fd-952b-5e75299665c6",
   "metadata": {},
   "source": [
    "# Star Wars Data Science\n",
    "## Network Analysis, Topic Modeling, and a Wordcloud!\n",
    "https://linkedin.com/in/dennisbakhuis"
   ]
  },
  {
   "cell_type": "markdown",
   "id": "cc189dec-381c-4ab4-89fc-87fe49c810b6",
   "metadata": {},
   "source": [
    "## 2. Wookieepedia data exploration"
   ]
  },
  {
   "cell_type": "markdown",
   "id": "114375a4-1e7c-48ff-88a1-064f5da444e4",
   "metadata": {},
   "source": [
    "The first step with a new dataset is always data exploration. It is a way to get acquainted with the dataset and a first step to understand what information is in it. "
   ]
  },
  {
   "cell_type": "code",
   "execution_count": null,
   "id": "49f72923-5fd4-4e3b-af1c-7b82694c4319",
   "metadata": {},
   "outputs": [],
   "source": [
    "import numpy as np\n",
    "import pandas as pd\n",
    "import matplotlib.pyplot as plt\n",
    "import seaborn as sns\n",
    "import matplotlib as mpl\n",
    "mpl.rcParams['font.size'] = 14.0\n",
    "\n",
    "sw = pd.read_parquet('../Dataset/StarWars_Characters.parquet')"
   ]
  },
  {
   "cell_type": "code",
   "execution_count": null,
   "id": "8d888074-3b97-4ab8-8b6a-57acee73e4e5",
   "metadata": {},
   "outputs": [],
   "source": [
    "sw.info()"
   ]
  },
  {
   "cell_type": "markdown",
   "id": "a9f476a1-4417-4e7e-8051-737af595ccc4",
   "metadata": {},
   "source": [
    "### Species\n",
    "If you ask a non-fanboy about Star Wars something you hear often is that it is full of weird creatures. Especially the [famous Cantina scene](https://www.youtube.com/watch?v=Lfy5Esue_ls) is full with different species that exist in the galaxy. Therefore, it is interesting to have a first look on the amount of species and how often they are represented in the canon dataset."
   ]
  },
  {
   "cell_type": "code",
   "execution_count": null,
   "id": "b5469f02-42bb-4281-b1c9-10971a40ea0d",
   "metadata": {},
   "outputs": [],
   "source": [
    "len(sw.species.unique())"
   ]
  },
  {
   "cell_type": "markdown",
   "id": "9ff731f9-fb66-4f00-8be4-4619eeedbac0",
   "metadata": {},
   "source": [
    "There are a total of 530 species mentioned, too much to make a nice visualization, Therefore, we only select species that have at least 40 mentions in the dataset. All others are grouped as other."
   ]
  },
  {
   "cell_type": "code",
   "execution_count": null,
   "id": "1ae74140-ec2f-4997-b13d-bdd1eacdaeca",
   "metadata": {},
   "outputs": [],
   "source": [
    "n_mentions = 40\n",
    "\n",
    "d = sw.copy()\n",
    "species = d.species.value_counts()\n",
    "other = species[species < n_mentions].index.tolist()\n",
    "d.loc[d.species.isin(other), 'species'] = 'Other'\n",
    "\n",
    "species =  d.species.value_counts()"
   ]
  },
  {
   "cell_type": "code",
   "execution_count": null,
   "id": "f9a0574c-f19d-4f36-9eae-82169aea1feb",
   "metadata": {},
   "outputs": [],
   "source": [
    "fig, ax = plt.subplots(figsize=[14,14])\n",
    "\n",
    "labels = species.index\n",
    "_ = plt.pie(\n",
    "    x=species, \n",
    "    autopct=\"%.1f%%\", \n",
    "    labels=species.index.tolist(),\n",
    "    pctdistance=0.9,\n",
    "    shadow=True,\n",
    "    startangle=60,    \n",
    ")\n",
    "_ = plt.axis('equal')"
   ]
  },
  {
   "cell_type": "code",
   "execution_count": null,
   "id": "8afeae1c-93bb-4d27-accd-c77d8d5fd252",
   "metadata": {},
   "outputs": [],
   "source": [
    "species"
   ]
  },
  {
   "cell_type": "code",
   "execution_count": null,
   "id": "41e4c6f8-37a0-44f2-ba01-8bff129f6277",
   "metadata": {},
   "outputs": [],
   "source": [
    "fig, ax = plt.subplots(figsize=(6, 3), subplot_kw=dict(aspect=\"equal\"))\n",
    "\n",
    "\n",
    "wedges, texts = ax.pie(species, wedgeprops=dict(width=0.5), startangle=0)\n",
    "\n",
    "bbox_props = dict(boxstyle=\"square,pad=0.3\", fc=\"w\", ec=\"k\", lw=0.72)\n",
    "kw = dict(arrowprops=dict(arrowstyle=\"-\"),\n",
    "          bbox=bbox_props, zorder=0, va=\"center\")\n",
    "\n",
    "labels = species.index.tolist()\n",
    "correction = [0,0] + list(np.arange(len(species) - 2) * 0.3 - 1)\n",
    "\n",
    "for i, p in enumerate(wedges):\n",
    "    ang = (p.theta2 - p.theta1)/2. + p.theta1\n",
    "    y = np.sin(np.deg2rad(ang))\n",
    "    x = np.cos(np.deg2rad(ang))\n",
    "    horizontalalignment = {-1: \"right\", 1: \"left\"}[int(np.sign(x))]\n",
    "    connectionstyle = \"angle,angleA=0,angleB={}\".format(ang)\n",
    "    ax.annotate(labels[i], xy=(x, y), xytext=(1.35*np.sign(x), correction[i]+1.4*y),\n",
    "                horizontalalignment=horizontalalignment, **kw)"
   ]
  },
  {
   "cell_type": "markdown",
   "id": "f9a33f1a-0d1e-453b-98d2-9ef6b6ab4a5c",
   "metadata": {},
   "source": [
    "Humans are by far the dominant species with more than half of the characters or 2770 mentions. The next species are Twi'leks that are only 2.5% of the dataset. There are only a few tenths for the other characters as the number is dropping quickly. We grouped 519 other species in the others group which gives an average of less than four characters each. If we would meet a random Star Wars character, there is a 50% chance that he/she is human. If it is not a human, it an be one of the many diverse species available."
   ]
  },
  {
   "cell_type": "markdown",
   "id": "761c2ffa-9e9f-45df-b1ad-e3a853d0c0e3",
   "metadata": {},
   "source": [
    "### Home world"
   ]
  },
  {
   "cell_type": "markdown",
   "id": "1bdaf338-87ce-402a-86b4-18bdda4bb3bb",
   "metadata": {},
   "source": [
    "As the species are very diverse, it might also be interesting to have a look at the home world of each character. Looking at the unique counts, there are 463 worlds mentioned in the dataset. Again, due to the high diversity, we threshold these to a minimum of 8 charters that have to mention the planet as a home world."
   ]
  },
  {
   "cell_type": "code",
   "execution_count": null,
   "id": "0e591585-f287-4d20-9856-5c97caefe06b",
   "metadata": {},
   "outputs": [],
   "source": [
    "sw.home_world.value_counts()"
   ]
  },
  {
   "cell_type": "code",
   "execution_count": null,
   "id": "d127cc1b-8f27-43d1-842b-3b54a22442a1",
   "metadata": {},
   "outputs": [],
   "source": [
    "n = 8\n",
    "\n",
    "d = sw.copy()\n",
    "hw = d.home_world.value_counts()\n",
    "other = hw[hw < n].index.tolist()\n",
    "hw = hw[hw >= n]\n",
    "d.loc[d.home_world.isin(other), 'home_world'] = 'Other'\n",
    "\n",
    "# hw =  d.home_world.value_counts()"
   ]
  },
  {
   "cell_type": "code",
   "execution_count": null,
   "id": "6f96913a-9718-45f5-a36c-87a32cb05497",
   "metadata": {},
   "outputs": [],
   "source": [
    "pie, ax = plt.subplots(figsize=[15,15])\n",
    "plt.rcParams['font.size'] = 18\n",
    "_ = plt.pie(\n",
    "    x=hw, \n",
    "    autopct=\"%.1f%%\", \n",
    "#     explode=[0, 0.1] + [0] * (len(species) - 2), \n",
    "    labels=hw.index.tolist(),\n",
    "    pctdistance=0.9,\n",
    "#     shadow=True,\n",
    "    startangle=60,\n",
    ")\n",
    "_ = plt.axis('equal')"
   ]
  },
  {
   "cell_type": "markdown",
   "id": "bbd86fb0-b53c-49ec-bbbf-ec2085feffdc",
   "metadata": {},
   "source": [
    "Interestingly, Kamino is the most mentioned world which is famous for their cloning technology. It was first mentioned in episode 2 - attack of the clones where the protagonists found a hidden clone army. But the main reason why this planet is so prominent is because of the animated series of Star Wars called the clone wars. It had seven seasons and a total of 133 episodes and was centralized around many characters that were created on Kamino. The second planet is Naboo which was under rule of Queen Amidala and famous throughout the series."
   ]
  },
  {
   "cell_type": "markdown",
   "id": "75aebc7f-b6f3-437b-804c-60ad81dbc188",
   "metadata": {},
   "source": [
    "### Gender"
   ]
  },
  {
   "cell_type": "code",
   "execution_count": null,
   "id": "6f707040-6ac5-4bca-a423-eaed360aa3e7",
   "metadata": {},
   "outputs": [],
   "source": [
    "sw.gender.unique()"
   ]
  },
  {
   "cell_type": "code",
   "execution_count": null,
   "id": "0500c23f-06e3-4c8f-8cdf-b6be89cfea0c",
   "metadata": {},
   "outputs": [],
   "source": [
    "fig, ax = plt.subplots(figsize=(12,8))\n",
    "ax = sns.countplot(data=sw, y='gender', ax=ax)\n",
    "sns.despine()\n",
    "for p in ax.patches:\n",
    "    ax.annotate(\n",
    "        f'\\n{p.get_width()}', \n",
    "        (p.get_width() + 50, p.get_y()+0.2),\n",
    "        ha='left', \n",
    "        va='top', color='black', size=18)"
   ]
  },
  {
   "cell_type": "markdown",
   "id": "e9606002-d495-44d2-9e2c-904b6c8e92d2",
   "metadata": {},
   "source": [
    "Because Star Wars started in the late seventies, I expected that there would be a strong representation of male characters. Indeed, two-third of all characters are males but I somehow expected more. Maybe Disney started to increase the amount of females to finally bring balance to the force.\n",
    "\n",
    "Another thing that is pretty cool is that there are a few non-binary characters in the official Star Wars lore. The author Chuck Wendig confirmed that a humanoid character from his books called Eleodie Maracavanya was indeed non-binary and thereby the first official non-binary canon character. Now there are a total of four, including Keo Venzee.\n",
    "\n",
    "For some species, it is not very clear if they are male or female and about 8% of all characters do not have a gender."
   ]
  },
  {
   "cell_type": "markdown",
   "id": "54c2d39a-ba0a-40f9-9934-750636243ee9",
   "metadata": {},
   "source": [
    "### The tallest and smallest bunch"
   ]
  },
  {
   "cell_type": "markdown",
   "id": "b962ab89-64ca-4638-a42d-ab1f579afaf5",
   "metadata": {},
   "source": [
    "As Qui-Gon Jinn once remarked: \"there is always a bigger fish' and therefore, it is interesting to see what sizes are recorded in the dataset. Unfortunately, only for about 12% of the characters, the height is known. Lets have a look at the distribution:"
   ]
  },
  {
   "cell_type": "code",
   "execution_count": null,
   "id": "40a52855-7522-4a82-9ca6-e12f66402fde",
   "metadata": {},
   "outputs": [],
   "source": [
    "fig, ax = plt.subplots(figsize=(12, 8))\n",
    "bins = np.arange(0, 3.1, 0.05)\n",
    "hist, bins = np.histogram(sw.height, bins=bins, density=False)\n",
    "bin_mid = (bins[0:-1] + bins[1:]) / 2\n",
    "ax.fill_between(bin_mid, hist, np.zeros(len(hist)))\n",
    "ax.plot(bin_mid, hist, 'k')\n",
    "_, _ = ax.set_xlabel('Height (m)'), ax.set_ylabel('Count')\n",
    "sns.despine()"
   ]
  },
  {
   "cell_type": "code",
   "execution_count": null,
   "id": "57ea14f1-2273-4910-a84e-a985afdfa4a6",
   "metadata": {},
   "outputs": [],
   "source": [
    "sw.sort_values('height', ascending=False)[['name', 'height']].head(10)"
   ]
  },
  {
   "cell_type": "markdown",
   "id": "91ebfd09-d809-4209-b8ec-f954629cafb3",
   "metadata": {},
   "source": [
    "Most characters have heights that are pretty typical to humanoids with a large spike at 1.83m which is about the average height of Dutch males. Looking at the extremes we find that Babu Frik (appeared in episode 9) is by far the smallest intelligent creature with only 22cm. Also nice to see is that Grogu has to grow about 20cm more to be equal in size to Yoda.\n",
    "\n",
    "The largest creature is Omi, the one-eyed beast living in the trash compactor of the Death Star and apparently is 10 meters tall. Also Jabba the Hutt is pretty large with 3.90m but I guess they measure him from nose till the end of his tail."
   ]
  },
  {
   "cell_type": "markdown",
   "id": "2023b2bf-12cb-456c-abfa-cc4b901f0f4b",
   "metadata": {},
   "source": [
    "### Eye color, skin color, and hair color"
   ]
  },
  {
   "cell_type": "markdown",
   "id": "62a692fa-ab0b-45fb-a36a-f1408c7a90e4",
   "metadata": {},
   "source": [
    "We have also logged the color of they eyes and there are 97 colors in the dataset. I guess that there are some typos and also some descriptive colors like 'Bluish green'.  Still for almost half the eye color was registered."
   ]
  },
  {
   "cell_type": "code",
   "execution_count": null,
   "id": "9af53429-58e3-41c2-a270-73c854a29fd4",
   "metadata": {},
   "outputs": [],
   "source": [
    "sw.eye_color.unique()"
   ]
  },
  {
   "cell_type": "code",
   "execution_count": null,
   "id": "f34fb863-2e89-4d9f-8322-364fdce55268",
   "metadata": {},
   "outputs": [],
   "source": [
    "eye_color = sw.eye_color.value_counts()\n",
    "eye_color = eye_color[eye_color>20].index.tolist()\n",
    "\n",
    "fig, ax = plt.subplots(figsize=(12, 8))\n",
    "sns.countplot(data=sw.loc[sw.eye_color.isin(eye_color)], y='eye_color', ax=ax)\n",
    "sns.despine()\n",
    "_ = ax.set_ylabel('Eye color')"
   ]
  },
  {
   "cell_type": "code",
   "execution_count": null,
   "id": "58d6c512-6b83-4b5e-b233-477dc7790ba5",
   "metadata": {},
   "outputs": [],
   "source": [
    "eye_color = sw.eye_color.value_counts()\n",
    "eye_color[eye_color>20]"
   ]
  },
  {
   "cell_type": "code",
   "execution_count": null,
   "id": "78312832-33b3-41d3-9fdf-5e6e4d99a22f",
   "metadata": {},
   "outputs": [],
   "source": [
    "skin_color = sw.skin_color.value_counts()\n",
    "skin_color = skin_color[skin_color>20].index.tolist()\n",
    "\n",
    "fig, ax = plt.subplots(figsize=(12, 8))\n",
    "sns.countplot(data=sw.loc[sw.skin_color.isin(skin_color)], y='skin_color', ax=ax)\n",
    "sns.despine()\n",
    "_ = ax.set_ylabel('Skin color')"
   ]
  },
  {
   "cell_type": "code",
   "execution_count": null,
   "id": "022db9c4-75c0-4053-9c88-ece1d5800958",
   "metadata": {},
   "outputs": [],
   "source": [
    "hair_color = sw.hair_color.value_counts()\n",
    "hair_color = hair_color[hair_color>20].index.tolist()\n",
    "\n",
    "fig, ax = plt.subplots(figsize=(12, 8))\n",
    "sns.countplot(data=sw.loc[sw.hair_color.isin(hair_color)], y='hair_color', ax=ax)\n",
    "sns.despine()\n",
    "_ = ax.set_ylabel('Hair color')"
   ]
  },
  {
   "cell_type": "code",
   "execution_count": null,
   "id": "2ed09aae-d141-4686-95cf-72a76bef2004",
   "metadata": {},
   "outputs": [],
   "source": []
  },
  {
   "cell_type": "code",
   "execution_count": null,
   "id": "61493fc9-e5e1-4e4d-ae1e-d7a9a3fd92c7",
   "metadata": {},
   "outputs": [],
   "source": []
  }
 ],
 "metadata": {
  "kernelspec": {
   "display_name": "Python 3",
   "language": "python",
   "name": "python3"
  },
  "language_info": {
   "codemirror_mode": {
    "name": "ipython",
    "version": 3
   },
   "file_extension": ".py",
   "mimetype": "text/x-python",
   "name": "python",
   "nbconvert_exporter": "python",
   "pygments_lexer": "ipython3",
   "version": "3.8.8"
  }
 },
 "nbformat": 4,
 "nbformat_minor": 5
}
